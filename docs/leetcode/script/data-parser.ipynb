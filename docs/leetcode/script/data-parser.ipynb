{
 "metadata": {
  "language_info": {
   "codemirror_mode": {
    "name": "ipython",
    "version": 3
   },
   "file_extension": ".py",
   "mimetype": "text/x-python",
   "name": "python",
   "nbconvert_exporter": "python",
   "pygments_lexer": "ipython3",
   "version": "3.8.3-final"
  },
  "orig_nbformat": 2,
  "kernelspec": {
   "name": "python_defaultSpec_1602007675584",
   "display_name": "Python 3.8.3 64-bit ('base': conda)"
  }
 },
 "nbformat": 4,
 "nbformat_minor": 2,
 "cells": [
  {
   "cell_type": "code",
   "execution_count": 1,
   "metadata": {},
   "outputs": [],
   "source": [
    "import json\n",
    "import os"
   ]
  },
  {
   "cell_type": "code",
   "execution_count": 2,
   "metadata": {},
   "outputs": [],
   "source": [
    "def write_heading(filename: str, f):\n",
    "    filename_heading = filename.split('.json')[0].split('-')\n",
    "    filename_heading = filename_heading[:-1] + [\"leetcode\"] + [filename_heading[-1]]\n",
    "    filename_heading = ' '.join(filename_heading).title()\n",
    "    filename_heading = '# ' + filename_heading\n",
    "    f.write(filename_heading + '\\n\\n')\n",
    "    f.write('|Id|Name|Difficulty|Topic Tags|\\n')\n",
    "    f.write('|--|----|----------|----------|\\n')"
   ]
  },
  {
   "cell_type": "code",
   "execution_count": 3,
   "metadata": {},
   "outputs": [],
   "source": [
    "leetcode_prefix = 'https://leetcode.com/problems/'\n",
    "def write_question(question: dict, f):\n",
    "    # stats = json.loads(question.get('stats'))\n",
    "    question_link = leetcode_prefix + question.get('titleSlug')\n",
    "    topic_tags = ', '.join([t.get('name') for t in question.get('topicTags')])\n",
    "    f.write('|' + question.get('questionFrontendId'))\n",
    "    f.write('|[' + question.get('title') + '](' + question_link +')')\n",
    "    f.write('|' + question.get('difficulty'))\n",
    "    f.write('|' + topic_tags)\n",
    "    f.write('|\\n')"
   ]
  },
  {
   "cell_type": "code",
   "execution_count": 4,
   "metadata": {},
   "outputs": [],
   "source": [
    "filenames = os.listdir('../data/')\n",
    "dirname = '../data/'\n",
    "for filename in filenames:\n",
    "    data = None\n",
    "    with open(dirname + filename) as f:\n",
    "        data = json.load(f)\n",
    "    questions = data.get('questions')\n",
    "    frequencies = data.get('frequencies')\n",
    "    with open('../questions/' + filename.split('.json')[0] + '.md', 'w') as f:\n",
    "        write_heading(filename, f)\n",
    "        for question in questions:\n",
    "            write_question(question, f)"
   ]
  },
  {
   "cell_type": "code",
   "execution_count": 13,
   "metadata": {},
   "outputs": [],
   "source": [
    "filenames = os.listdir('../questions/')\n",
    "dirname = './questions/'\n",
    "\n",
    "with open('../Readme.md', 'w') as f:\n",
    "    f.write('# Leetcode Top Questions - 2020\\n\\n')\n",
    "    for filename in filenames:\n",
    "        filename_heading = ' '.join(filename.split('.md')[0].split('-')).title()\n",
    "        f.write('- [' + filename_heading + '](' + (dirname + filename) + ')\\n')"
   ]
  },
  {
   "cell_type": "code",
   "execution_count": null,
   "metadata": {},
   "outputs": [],
   "source": []
  }
 ]
}